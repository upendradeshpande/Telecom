{
 "cells": [
  {
   "attachments": {},
   "cell_type": "markdown",
   "metadata": {},
   "source": [
    "## Data Features Info"
   ]
  },
  {
   "attachments": {},
   "cell_type": "markdown",
   "metadata": {},
   "source": [
    "* customerID-->Unique id of customer\n",
    "* gender-->male/female\n",
    "* SeniorCitizen-->Yes-1 No-0\n",
    "* Partner-->Whether the customer has a partner or not (Yes, No)\n",
    "* Dependents-->Whether the customer has dependents or not (Yes, No)\n",
    "* tenure-->Number of months the customer has stayed with the company\n",
    "* PhoneService-->Whether the customer has a phone service or not (Yes, No)\n",
    "* MultipleLines-->Whether the customer has multiple lines or not (Yes, No, No phone service)\n",
    "* InternetService-->Customer’s internet service provider (DSL, Fiber optic, No)\n",
    "* OnlineSecurity-->Whether the customer has online security or not (Yes, No, No internet service)\n",
    "* OnlineBackup — whether the customer has online backup or not (Yes, No, No internet service)\n",
    "* DeviceProtection — whether the customer has device protection or not (Yes, No, No internet service)\n",
    "* TechSupport — whether the customer has tech support or not (Yes, No, No internet service)\n",
    "* StreamingTV — whether the customer has streaming TV or not (Yes, No, No internet service)\n",
    "* StreamingMovies — whether the customer has streaming movies or not (Yes, No, No internet service)\n",
    "* Contract — type of contract according to duration (Month-to-month, One year, Two year)\n",
    "* PaperlessBilling — bills issued in paperless form (Yes, No)\n",
    "* PaymentMethod — payment method used by customer (Electronic check, Mailed check, Credit card (automatic), Bank transfer (automatic))\n",
    "* MonthlyCharges — amount of charge for service on monthly bases\n",
    "* TotalCharges — cumulative charges for service during subscription (tenure) period"
   ]
  },
  {
   "attachments": {},
   "cell_type": "markdown",
   "metadata": {},
   "source": []
  }
 ],
 "metadata": {
  "language_info": {
   "name": "python"
  },
  "orig_nbformat": 4
 },
 "nbformat": 4,
 "nbformat_minor": 2
}
